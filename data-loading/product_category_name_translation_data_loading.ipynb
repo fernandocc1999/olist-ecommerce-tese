{
 "cells": [
  {
   "cell_type": "markdown",
   "metadata": {},
   "source": [
    "# **Product Category Name Translation Data Transformation: Local CSV to Processed Data**"
   ]
  },
  {
   "cell_type": "markdown",
   "metadata": {},
   "source": [
    "#### **Import necessary libraries**"
   ]
  },
  {
   "cell_type": "code",
   "execution_count": 1,
   "metadata": {},
   "outputs": [],
   "source": [
    "import pandas as pd\n",
    "import os\n",
    "\n",
    "from IPython.display import display"
   ]
  },
  {
   "cell_type": "markdown",
   "metadata": {},
   "source": [
    "#### **Paths to files**"
   ]
  },
  {
   "cell_type": "code",
   "execution_count": 2,
   "metadata": {},
   "outputs": [],
   "source": [
    "base_path = os.path.dirname(os.getcwd()) \n",
    "\n",
    "raw_data_path = os.path.join(base_path, 'raw-data', 'product_category_name_translation.csv')\n",
    "processed_data_path = os.path.join(base_path, 'processed-data', 'product_category_name_translation.parquet')"
   ]
  },
  {
   "cell_type": "markdown",
   "metadata": {},
   "source": [
    "#### **Load the raw dataset**"
   ]
  },
  {
   "cell_type": "code",
   "execution_count": 3,
   "metadata": {},
   "outputs": [
    {
     "name": "stdout",
     "output_type": "stream",
     "text": [
      "Loading the dataset...\n",
      "Dataset loaded successfully!\n",
      "Sample of the raw dataset:\n"
     ]
    },
    {
     "data": {
      "text/html": [
       "<div>\n",
       "<style scoped>\n",
       "    .dataframe tbody tr th:only-of-type {\n",
       "        vertical-align: middle;\n",
       "    }\n",
       "\n",
       "    .dataframe tbody tr th {\n",
       "        vertical-align: top;\n",
       "    }\n",
       "\n",
       "    .dataframe thead th {\n",
       "        text-align: right;\n",
       "    }\n",
       "</style>\n",
       "<table border=\"1\" class=\"dataframe\">\n",
       "  <thead>\n",
       "    <tr style=\"text-align: right;\">\n",
       "      <th></th>\n",
       "      <th>product_category_name</th>\n",
       "      <th>product_category_name_english</th>\n",
       "    </tr>\n",
       "  </thead>\n",
       "  <tbody>\n",
       "    <tr>\n",
       "      <th>0</th>\n",
       "      <td>beleza_saude</td>\n",
       "      <td>health_beauty</td>\n",
       "    </tr>\n",
       "    <tr>\n",
       "      <th>1</th>\n",
       "      <td>informatica_acessorios</td>\n",
       "      <td>computers_accessories</td>\n",
       "    </tr>\n",
       "    <tr>\n",
       "      <th>2</th>\n",
       "      <td>automotivo</td>\n",
       "      <td>auto</td>\n",
       "    </tr>\n",
       "    <tr>\n",
       "      <th>3</th>\n",
       "      <td>cama_mesa_banho</td>\n",
       "      <td>bed_bath_table</td>\n",
       "    </tr>\n",
       "    <tr>\n",
       "      <th>4</th>\n",
       "      <td>moveis_decoracao</td>\n",
       "      <td>furniture_decor</td>\n",
       "    </tr>\n",
       "    <tr>\n",
       "      <th>5</th>\n",
       "      <td>esporte_lazer</td>\n",
       "      <td>sports_leisure</td>\n",
       "    </tr>\n",
       "    <tr>\n",
       "      <th>6</th>\n",
       "      <td>perfumaria</td>\n",
       "      <td>perfumery</td>\n",
       "    </tr>\n",
       "    <tr>\n",
       "      <th>7</th>\n",
       "      <td>utilidades_domesticas</td>\n",
       "      <td>housewares</td>\n",
       "    </tr>\n",
       "    <tr>\n",
       "      <th>8</th>\n",
       "      <td>telefonia</td>\n",
       "      <td>telephony</td>\n",
       "    </tr>\n",
       "    <tr>\n",
       "      <th>9</th>\n",
       "      <td>relogios_presentes</td>\n",
       "      <td>watches_gifts</td>\n",
       "    </tr>\n",
       "  </tbody>\n",
       "</table>\n",
       "</div>"
      ],
      "text/plain": [
       "    product_category_name product_category_name_english\n",
       "0            beleza_saude                 health_beauty\n",
       "1  informatica_acessorios         computers_accessories\n",
       "2              automotivo                          auto\n",
       "3         cama_mesa_banho                bed_bath_table\n",
       "4        moveis_decoracao               furniture_decor\n",
       "5           esporte_lazer                sports_leisure\n",
       "6              perfumaria                     perfumery\n",
       "7   utilidades_domesticas                    housewares\n",
       "8               telefonia                     telephony\n",
       "9      relogios_presentes                 watches_gifts"
      ]
     },
     "metadata": {},
     "output_type": "display_data"
    }
   ],
   "source": [
    "print(\"Loading the dataset...\")\n",
    "df_raw = pd.read_csv(raw_data_path)\n",
    "print(\"Dataset loaded successfully!\")\n",
    "\n",
    "# Display a sample of the data\n",
    "print(\"Sample of the raw dataset:\")\n",
    "display(df_raw.head(10))"
   ]
  },
  {
   "cell_type": "markdown",
   "metadata": {},
   "source": [
    "#### **Check for null values and dataset information**"
   ]
  },
  {
   "cell_type": "code",
   "execution_count": 4,
   "metadata": {},
   "outputs": [
    {
     "name": "stdout",
     "output_type": "stream",
     "text": [
      "\n",
      "Raw dataset information:\n",
      "<class 'pandas.core.frame.DataFrame'>\n",
      "RangeIndex: 71 entries, 0 to 70\n",
      "Data columns (total 2 columns):\n",
      " #   Column                         Non-Null Count  Dtype \n",
      "---  ------                         --------------  ----- \n",
      " 0   product_category_name          71 non-null     object\n",
      " 1   product_category_name_english  71 non-null     object\n",
      "dtypes: object(2)\n",
      "memory usage: 1.2+ KB\n",
      "\n",
      "Count of null values per column:\n",
      "product_category_name            0\n",
      "product_category_name_english    0\n",
      "dtype: int64\n"
     ]
    }
   ],
   "source": [
    "print(\"\\nRaw dataset information:\")\n",
    "df_raw.info()\n",
    "\n",
    "print(\"\\nCount of null values per column:\")\n",
    "print(df_raw.isnull().sum())"
   ]
  },
  {
   "cell_type": "markdown",
   "metadata": {},
   "source": [
    "#### **Apply transformations to clean the dataset**"
   ]
  },
  {
   "cell_type": "code",
   "execution_count": 5,
   "metadata": {},
   "outputs": [
    {
     "name": "stdout",
     "output_type": "stream",
     "text": [
      "\n",
      "Transforming the data...\n",
      "Sample of the transformed dataset:\n"
     ]
    },
    {
     "data": {
      "text/html": [
       "<div>\n",
       "<style scoped>\n",
       "    .dataframe tbody tr th:only-of-type {\n",
       "        vertical-align: middle;\n",
       "    }\n",
       "\n",
       "    .dataframe tbody tr th {\n",
       "        vertical-align: top;\n",
       "    }\n",
       "\n",
       "    .dataframe thead th {\n",
       "        text-align: right;\n",
       "    }\n",
       "</style>\n",
       "<table border=\"1\" class=\"dataframe\">\n",
       "  <thead>\n",
       "    <tr style=\"text-align: right;\">\n",
       "      <th></th>\n",
       "      <th>product_category_name</th>\n",
       "      <th>product_category_name_english</th>\n",
       "    </tr>\n",
       "  </thead>\n",
       "  <tbody>\n",
       "    <tr>\n",
       "      <th>0</th>\n",
       "      <td>beleza_saude</td>\n",
       "      <td>health_beauty</td>\n",
       "    </tr>\n",
       "    <tr>\n",
       "      <th>1</th>\n",
       "      <td>informatica_acessorios</td>\n",
       "      <td>computers_accessories</td>\n",
       "    </tr>\n",
       "    <tr>\n",
       "      <th>2</th>\n",
       "      <td>automotivo</td>\n",
       "      <td>auto</td>\n",
       "    </tr>\n",
       "    <tr>\n",
       "      <th>3</th>\n",
       "      <td>cama_mesa_banho</td>\n",
       "      <td>bed_bath_table</td>\n",
       "    </tr>\n",
       "    <tr>\n",
       "      <th>4</th>\n",
       "      <td>moveis_decoracao</td>\n",
       "      <td>furniture_decor</td>\n",
       "    </tr>\n",
       "  </tbody>\n",
       "</table>\n",
       "</div>"
      ],
      "text/plain": [
       "    product_category_name product_category_name_english\n",
       "0            beleza_saude                 health_beauty\n",
       "1  informatica_acessorios         computers_accessories\n",
       "2              automotivo                          auto\n",
       "3         cama_mesa_banho                bed_bath_table\n",
       "4        moveis_decoracao               furniture_decor"
      ]
     },
     "metadata": {},
     "output_type": "display_data"
    },
    {
     "name": "stdout",
     "output_type": "stream",
     "text": [
      "<class 'pandas.core.frame.DataFrame'>\n",
      "RangeIndex: 71 entries, 0 to 70\n",
      "Data columns (total 2 columns):\n",
      " #   Column                         Non-Null Count  Dtype \n",
      "---  ------                         --------------  ----- \n",
      " 0   product_category_name          71 non-null     object\n",
      " 1   product_category_name_english  71 non-null     object\n",
      "dtypes: object(2)\n",
      "memory usage: 1.2+ KB\n",
      "Total rows in the cleaned dataset: 71\n"
     ]
    }
   ],
   "source": [
    "print(\"\\nTransforming the data...\")\n",
    "df_cleaned = (\n",
    "    df_raw\n",
    "    .drop_duplicates(subset=[\"product_category_name\"]) \n",
    ")\n",
    "\n",
    "# Adding a new column with appealing category groups\n",
    "def categorize_product(category):\n",
    "    category_groups = {\n",
    "        \"beleza_saude\": \"Saúde e Beleza\",\n",
    "        \"informatica_acessorios\": \"Acessórios de Informática\",\n",
    "        \"automotivo\": \"Automotivo\",\n",
    "        \"cama_mesa_banho\": \"Casa Mesa Banho\",\n",
    "        \"moveis_decoracao\": \"Decoração de Móveis\",\n",
    "        \"esporte_lazer\": \"Desportos e Lazer\",\n",
    "        \"perfumaria\": \"Perfumaria\",\n",
    "        \"utilidades_domesticas\": \"Utensílios Domésticos\",\n",
    "        \"telefonia\": \"Telefonia\",\n",
    "        \"relogios_presentes\": \"Relógios Presentes\",\n",
    "        \"alimentos_bebidas\": \"Alimentos e Bebidas\",\n",
    "        \"bebes\": \"Bebés\",\n",
    "        \"papelaria\": \"Papelaria\",\n",
    "        \"tablets_impressao_imagem\": \"Tablets Impressão de Imagem\",\n",
    "        \"brinquedos\": \"Brinquedos\",\n",
    "        \"telefonia_fixa\": \"Telefonia Fixa\",\n",
    "        \"ferramentas_jardim\": \"Ferramentas de Jardim\",\n",
    "        \"fashion_bolsas_e_acessorios\": \"Fashion Bolsas e Acessórios\",\n",
    "        \"eletroportateis\": \"Pequenos Eletrodomésticos\",\n",
    "        \"consoles_games\": \"Jogos para Consolas\",\n",
    "        \"audio\": \"Áudio\",\n",
    "        \"fashion_calcados\": \"Fashion Calçados\",\n",
    "        \"cool_stuff\": \"Artigos Porreiros\",\n",
    "        \"malas_acessorios\": \"Acessórios de Malas\",\n",
    "        \"climatizacao\": \"Ar Condicionado\",\n",
    "        \"construcao_ferramentas_construcao\": \"Construção de Ferramentas de Construção\",\n",
    "        \"moveis_cozinha_area_de_servico_jantar_e_jardim\": \"Móveis de Cozinha, Sala de Jantar, Lavandaria e Jardim\",\n",
    "        \"construcao_ferramentas_jardim\": \"Construção de Ferramentas de Jardim\",\n",
    "        \"fashion_roupa_masculina\": \"Fashion Roupa Masculina\",\n",
    "        \"pet_shop\": \"Loja de Animais\",\n",
    "        \"moveis_escritorio\": \"Móveis de Escritório\",\n",
    "        \"market_place\": \"Mercado\",\n",
    "        \"eletronicos\": \"Eletrónicos\",\n",
    "        \"eletrodomesticos\": \"Eletrodomésticos\",\n",
    "        \"artigos_de_festas\": \"Artigos de Festas\",\n",
    "        \"casa_conforto\": \"Conforto Doméstico\",\n",
    "        \"construcao_ferramentas_ferramentas\": \"Construção de Ferramentas de Construção\",\n",
    "        \"agro_industria_e_comercio\": \"Agroindústria e Comércio\", \n",
    "        \"moveis_colchao_e_estofado\": \"Móveis, Colchões e Estofos\", \n",
    "        \"livros_tecnicos\": \"Livros Técnicos\",\n",
    "        \"instrumentos_musicais\": \"Instrumentos Musicais\",\n",
    "        \"moveis_sala\": \"Móveis de Sala\",\n",
    "        \"construcao_ferramentas_iluminacao\": \"Construção de Ferramentas de Iluminação\",\n",
    "        \"industria_comercio_e_negocios\": \"Indústria Comércio e Negócios\",\n",
    "        \"alimentos\": \"Alimentos\", \n",
    "        \"artes\": \"Artes\", \n",
    "        \"moveis_quarto\": \"Móveis de Quarto\", \n",
    "        \"livros_interesse_geral\": \"Livros de Interesse Geral\", \n",
    "        \"construcao_ferramentas_seguranca\": \"Construção de Ferramentas de Segurança\", \n",
    "        \"fashion_underwear_e_moda_praia\": \"Moda Roupa Interior e Moda Praia\", \n",
    "        \"fashion_esporte\": \"Fashion de Desportos\", \n",
    "        \"sinalizacao_e_seguranca\": \"Sinalização e Segurança\", \n",
    "        \"pcs\": \"PCs\",\n",
    "        \"artigos_de_natal\": \"Artigos de Natal\",\n",
    "        \"fashion_roupa_feminina\": \"Fashion de Roupa Feminina\",\n",
    "        \"eletrodomesticos_2\": \"Eletrodomésticos 2\", \n",
    "        \"livros_importados\": \"Livros Importados\", \n",
    "        \"bebidas\": \"Bebidas\",\n",
    "        \"cine_foto\": \"Fotografia Cinematográfica\",\n",
    "        \"la_cuisine\": \"Cozinha\", \n",
    "        \"musica\": \"Música\", \n",
    "        \"casa_conforto_2\": \"Conforto Doméstico 2\", \n",
    "        \"portateis_casa_forno_e_cafe\": \"Pequenos Eletrodomésticos Forno Doméstico e Café\", \n",
    "        \"cds_dvds_musicais\": \"CDs e DVDs Musicais\", \n",
    "        \"dvds_blu_ray\": \"DVDs e Blu-Ray\", \n",
    "        \"flores\": \"Flores\",\n",
    "        \"artes_e_artesanato\": \"Artes e Artesanato\", \n",
    "        \"fraldas_higiene\": \"Fraldas e Higiene\", \n",
    "        \"fashion_roupa_infanto_juvenil\": \"Fashion de Roupa Infantil\", \n",
    "        \"seguros_e_servicos\": \"Seguros e Serviços\"\n",
    "    }\n",
    "    return category_groups.get(category, \"Outros\")  # Default to \"Outros\" if not in the dictionary\n",
    "\n",
    "df_cleaned[\"category_group\"] = df_cleaned[\"product_category_name\"].apply(categorize_product)\n",
    "\n",
    "\n",
    "# Display the transformed dataset\n",
    "print(\"Sample of the transformed dataset:\")\n",
    "display(df_cleaned.head())\n",
    "\n",
    "df_cleaned.info()\n",
    "\n",
    "# Count the total rows in the cleaned dataset\n",
    "cleaned_row_count = df_cleaned.shape[0]\n",
    "print(f\"Total rows in the cleaned dataset: {cleaned_row_count}\")"
   ]
  },
  {
   "cell_type": "markdown",
   "metadata": {},
   "source": [
    "#### **Save the cleaned dataset**"
   ]
  },
  {
   "cell_type": "code",
   "execution_count": 6,
   "metadata": {},
   "outputs": [
    {
     "name": "stdout",
     "output_type": "stream",
     "text": [
      "\n",
      "Saving the cleaned dataset...\n",
      "Cleaned dataset saved successfully at: c:\\Users\\Fernando Correia\\Desktop\\Olist Ecommerce Tese\\processed-data\\product_category_name_translation.parquet\n"
     ]
    }
   ],
   "source": [
    "print(\"\\nSaving the cleaned dataset...\")\n",
    "df_cleaned.to_parquet(processed_data_path, index=False, engine='pyarrow')\n",
    "print(f\"Cleaned dataset saved successfully at: {processed_data_path.replace('.csv', '.parquet')}\")"
   ]
  }
 ],
 "metadata": {
  "kernelspec": {
   "display_name": "Python 3",
   "language": "python",
   "name": "python3"
  },
  "language_info": {
   "codemirror_mode": {
    "name": "ipython",
    "version": 3
   },
   "file_extension": ".py",
   "mimetype": "text/x-python",
   "name": "python",
   "nbconvert_exporter": "python",
   "pygments_lexer": "ipython3",
   "version": "3.13.1"
  }
 },
 "nbformat": 4,
 "nbformat_minor": 2
}
